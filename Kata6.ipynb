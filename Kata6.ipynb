{
 "cells": [
  {
   "cell_type": "code",
   "execution_count": 3,
   "metadata": {},
   "outputs": [
    {
     "name": "stdout",
     "output_type": "stream",
     "text": [
      "The first planet is Mercury\n",
      "The second planet is Venus\n",
      "The third planet is Earth\n"
     ]
    }
   ],
   "source": [
    "planets = ['Mercury', 'Venus', 'Earth', 'Mars', 'Jupiter', 'Saturn', 'Uranus', 'Neptune']\n",
    "print('The first planet is', planets[0])\n",
    "print('The second planet is', planets[1])\n",
    "print('The third planet is', planets[2])"
   ]
  },
  {
   "cell_type": "code",
   "execution_count": 4,
   "metadata": {},
   "outputs": [
    {
     "name": "stdout",
     "output_type": "stream",
     "text": [
      "Mars is also known as Red Planet\n",
      "There are 8 planets in the solar system.\n"
     ]
    }
   ],
   "source": [
    "planets[3] = 'Red Planet'\n",
    "print('Mars is also known as', planets[3])\n",
    "number_of_planets = len(planets)\n",
    "print('There are', number_of_planets, 'planets in the solar system.')"
   ]
  },
  {
   "cell_type": "code",
   "execution_count": 5,
   "metadata": {},
   "outputs": [
    {
     "name": "stdout",
     "output_type": "stream",
     "text": [
      "There are actually 9 planets in the solar system.\n",
      "No, there are definitely 8 planets in the solar system.\n"
     ]
    }
   ],
   "source": [
    "planets.append('Pluto')\n",
    "number_of_planets = len(planets)\n",
    "print('There are actually', number_of_planets, 'planets in the solar system.')\n",
    "planets.pop()  # Goodbye, Pluto\n",
    "number_of_planets = len(planets)\n",
    "print('No, there are definitely', number_of_planets, 'planets in the solar system.')"
   ]
  },
  {
   "cell_type": "code",
   "execution_count": 6,
   "metadata": {},
   "outputs": [
    {
     "name": "stdout",
     "output_type": "stream",
     "text": [
      "The first planet is Mercury\n",
      "The last planet is Neptune\n",
      "The penultimate planet is Uranus\n",
      "Jupiter is the 5 planet from the sun\n"
     ]
    }
   ],
   "source": [
    "print(\"The first planet is\", planets[0])\n",
    "print('The last planet is', planets[-1])\n",
    "print('The penultimate planet is', planets[-2])\n",
    "jupiter_index = planets.index('Jupiter')\n",
    "print('Jupiter is the', jupiter_index + 1, 'planet from the sun')"
   ]
  },
  {
   "cell_type": "code",
   "execution_count": 7,
   "metadata": {},
   "outputs": [
    {
     "name": "stdout",
     "output_type": "stream",
     "text": [
      "On Earth, a double-decker bus weighs 12650 kg\n",
      "On Mercury, a double-decker bus weighs 4781.7 kg\n"
     ]
    }
   ],
   "source": [
    "gravity_on_earth = 1.0\n",
    "gravity_on_the_moon = 0.166\n",
    "gravity_on_planets = [0.378, 0.907, 1, 0.379, 2.36, 0.916, 0.889, 1.12]\n",
    "bus_weight = 12650 # in kilograms, on Earth\n",
    "\n",
    "print('On Earth, a double-decker bus weighs', bus_weight, 'kg')\n",
    "print('On Mercury, a double-decker bus weighs', bus_weight * gravity_on_planets[0], 'kg')"
   ]
  },
  {
   "cell_type": "code",
   "execution_count": 9,
   "metadata": {},
   "outputs": [
    {
     "name": "stdout",
     "output_type": "stream",
     "text": [
      "On Earth, a double-decker bus weighs 12650 kg\n",
      "The lightest a bus would be in the solar system is 4781.7 kg\n",
      "The heaviest a bus would be in the solar system is 29854.0 kg\n"
     ]
    }
   ],
   "source": [
    "bus_weight = 12650 # in kilograms, on Earth\n",
    "print('On Earth, a double-decker bus weighs', bus_weight, 'kg')\n",
    "print('The lightest a bus would be in the solar system is', bus_weight * min(gravity_on_planets), 'kg')\n",
    "print('The heaviest a bus would be in the solar system is', bus_weight * max(gravity_on_planets), 'kg')"
   ]
  },
  {
   "cell_type": "code",
   "execution_count": 8,
   "metadata": {},
   "outputs": [
    {
     "name": "stdout",
     "output_type": "stream",
     "text": [
      "['Mercury', 'Venus']\n",
      "['Mars', 'Jupiter', 'Saturn', 'Uranus', 'Neptune']\n",
      "['Mars', 'Jupiter', 'Saturn', 'Uranus', 'Neptune']\n"
     ]
    }
   ],
   "source": [
    "planets = ['Mercury', 'Venus', 'Earth', 'Mars', 'Jupiter', 'Saturn', 'Uranus', 'Neptune']\n",
    "planets_before_earth = planets[0:2]\n",
    "print(planets_before_earth)\n",
    "planets_after_earth = planets[3:8]\n",
    "print(planets_after_earth) \n",
    "planets_after_earth = planets[3:]\n",
    "print(planets_after_earth)"
   ]
  },
  {
   "cell_type": "code",
   "execution_count": 10,
   "metadata": {},
   "outputs": [
    {
     "name": "stdout",
     "output_type": "stream",
     "text": [
      "The regular satellite moons of Jupiter are ['Metis', 'Adrastea', 'Amalthea', 'Thebe', 'Io', 'Europa', 'Ganymede', 'Callisto']\n"
     ]
    }
   ],
   "source": [
    "amalthea_group = ['Metis', 'Adrastea', 'Amalthea', 'Thebe']\n",
    "galilean_moons = ['Io', 'Europa', 'Ganymede', 'Callisto']\n",
    "regular_satellite_moons = amalthea_group + galilean_moons\n",
    "print('The regular satellite moons of Jupiter are', regular_satellite_moons)"
   ]
  },
  {
   "cell_type": "code",
   "execution_count": 11,
   "metadata": {},
   "outputs": [
    {
     "name": "stdout",
     "output_type": "stream",
     "text": [
      "The regular satellite moons of Jupiter are ['Adrastea', 'Amalthea', 'Callisto', 'Europa', 'Ganymede', 'Io', 'Metis', 'Thebe']\n",
      "The regular satellite moons of Jupiter are ['Thebe', 'Metis', 'Io', 'Ganymede', 'Europa', 'Callisto', 'Amalthea', 'Adrastea']\n"
     ]
    }
   ],
   "source": [
    "regular_satellite_moons.sort()\n",
    "print(\"The regular satellite moons of Jupiter are\", regular_satellite_moons)\n",
    "regular_satellite_moons.sort(reverse=True)\n",
    "print(\"The regular satellite moons of Jupiter are\", regular_satellite_moons)"
   ]
  },
  {
   "cell_type": "markdown",
   "metadata": {},
   "source": [
    "# Ejercicio 1"
   ]
  },
  {
   "cell_type": "code",
   "execution_count": 17,
   "metadata": {},
   "outputs": [
    {
     "name": "stdout",
     "output_type": "stream",
     "text": [
      "['Jupiter', 'Marte', 'Saturno', 'Venus', 'Mercurio', 'Neptuno', 'Tierra']\n",
      "Pluton\n"
     ]
    }
   ],
   "source": [
    "planets = ['Jupiter','Marte','Saturno','Venus','Mercurio', 'Neptuno','Tierra']\n",
    "print(planets)\n",
    "planets.append('Pluton')\n",
    "print(planets[-1])"
   ]
  },
  {
   "cell_type": "markdown",
   "metadata": {},
   "source": [
    "# Ejercico 2"
   ]
  },
  {
   "cell_type": "code",
   "execution_count": 27,
   "metadata": {},
   "outputs": [],
   "source": [
    "# Lista de planetas\n",
    "planets = ['Mercurio','Venus','Tierra','Marte','Jupiter','Saturno','Neptuno',]\n",
    "name_plnets=input('Ingrese el nombre del planeta (no olvides poner la mayuscula al comensar):')\n"
   ]
  },
  {
   "cell_type": "code",
   "execution_count": 31,
   "metadata": {},
   "outputs": [
    {
     "name": "stdout",
     "output_type": "stream",
     "text": [
      "Estos son los planetas mas cercanos a Marte\n",
      "['Jupiter']\n",
      "Estos son los planetas mas cercanos a El sol\n",
      "['Saturno', 'Venus', 'Mercurio', 'Neptuno', 'Tierra']\n"
     ]
    }
   ],
   "source": [
    "planet = planets.index(name_plnets)\n",
    "print('Estos son los planetas mas cercanos a '+ name_plnets)\n",
    "print(planets[0:planet])\n",
    "print('Estos son los planetas mas cercanos a El sol')\n",
    "print(planets[planet+1:])"
   ]
  }
 ],
 "metadata": {
  "interpreter": {
   "hash": "1cb14c72b1ba17208be75a0033ef46683790f7d62c7c4c7076faaa5a09e5c632"
  },
  "kernelspec": {
   "display_name": "Python 3.10.2 64-bit",
   "language": "python",
   "name": "python3"
  },
  "language_info": {
   "codemirror_mode": {
    "name": "ipython",
    "version": 3
   },
   "file_extension": ".py",
   "mimetype": "text/x-python",
   "name": "python",
   "nbconvert_exporter": "python",
   "pygments_lexer": "ipython3",
   "version": "3.10.2"
  },
  "orig_nbformat": 4
 },
 "nbformat": 4,
 "nbformat_minor": 2
}

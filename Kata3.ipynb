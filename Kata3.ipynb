{
 "cells": [
  {
   "cell_type": "code",
   "execution_count": 2,
   "metadata": {},
   "outputs": [
    {
     "name": "stdout",
     "output_type": "stream",
     "text": [
      "El mundo esta viendo un rayo de luz magico\n",
      "Tomen precausiones un asteroide con velocidad 89 Km/s, enciendan alarmas y empiecen evacuaciones\n"
     ]
    }
   ],
   "source": [
    "import random as rd\n",
    "vast = rd.randint(1,100)\n",
    "min = 25\n",
    "diam =rd.randint(1,1000)\n",
    "if vast >= min and diam >= 25:\n",
    "    print('El mundo esta viendo un rayo de luz magico')\n",
    "    print(f'Tomen precausiones un asteroide con velocidad '+str(vast)+' Km/s, enciendan alarmas y empiecen evacuaciones')\n",
    "elif vast >= min and diam < 25:\n",
    "        print('Hay probabilidad que se qume el asteroide')\n",
    "else :\n",
    "    print(f'No hay alertas')"
   ]
  }
 ],
 "metadata": {
  "interpreter": {
   "hash": "1cb14c72b1ba17208be75a0033ef46683790f7d62c7c4c7076faaa5a09e5c632"
  },
  "kernelspec": {
   "display_name": "Python 3.10.2 64-bit",
   "language": "python",
   "name": "python3"
  },
  "language_info": {
   "codemirror_mode": {
    "name": "ipython",
    "version": 3
   },
   "file_extension": ".py",
   "mimetype": "text/x-python",
   "name": "python",
   "nbconvert_exporter": "python",
   "pygments_lexer": "ipython3",
   "version": "3.10.2"
  },
  "orig_nbformat": 4
 },
 "nbformat": 4,
 "nbformat_minor": 2
}
